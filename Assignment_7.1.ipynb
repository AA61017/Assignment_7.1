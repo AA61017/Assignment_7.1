{
 "cells": [
  {
   "cell_type": "code",
   "execution_count": 84,
   "metadata": {},
   "outputs": [
    {
     "name": "stdout",
     "output_type": "stream",
     "text": [
      "Enter the value of moving avg window: 3\n",
      "-----------------------------------------\n",
      "Enter the elements of the list with length greater than window size k: 3, 5, 7, 2, 8, 10, 11, 65, 72, 81, 99, 100, 150\n",
      "['3', ' 5', ' 7', ' 2', ' 8', ' 10', ' 11', ' 65', ' 72', ' 81', ' 99', ' 100', ' 150']\n",
      "<class 'list'>\n",
      "-----------------------------------------\n",
      "['3', ' 5', ' 7']\n",
      "3.75 (3 +  5 +  7 )/ 3\n",
      "[' 5', ' 7', ' 2']\n",
      "3.5 ( 5 +  7 +  2 )/ 3\n",
      "[' 7', ' 2', ' 8']\n",
      "4.25 ( 7 +  2 +  8 )/ 3\n",
      "[' 2', ' 8', ' 10']\n",
      "5.0 ( 2 +  8 +  10 )/ 3\n",
      "[' 8', ' 10', ' 11']\n",
      "7.25 ( 8 +  10 +  11 )/ 3\n",
      "[' 10', ' 11', ' 65']\n",
      "21.5 ( 10 +  11 +  65 )/ 3\n",
      "[' 11', ' 65', ' 72']\n",
      "37.0 ( 11 +  65 +  72 )/ 3\n",
      "[' 65', ' 72', ' 81']\n",
      "54.5 ( 65 +  72 +  81 )/ 3\n",
      "[' 72', ' 81', ' 99']\n",
      "63.0 ( 72 +  81 +  99 )/ 3\n",
      "[' 81', ' 99', ' 100']\n",
      "70.0 ( 81 +  99 +  100 )/ 3\n",
      "[' 99', ' 100', ' 150']\n",
      "87.25 ( 99 +  100 +  150 )/ 3\n"
     ]
    }
   ],
   "source": [
    "# Function to calculate Moving Average with window k\n",
    "def findMovingAverage(nlist,k):\n",
    "    avg = 0.0\n",
    "    sum = 0.0\n",
    "    for i in range(k):\n",
    "        sum = sum + float(nlist[i])\n",
    "    avg = sum/4.0\n",
    "    return(avg)\n",
    "\n",
    "k = int(input(\"Enter the value of moving avg window: \"))\n",
    "print(\"-----------------------------------------\")\n",
    "list_of_strs = input(\"Enter the elements of the list with length greater than window size k: \")\n",
    "list_of_strs = list_of_strs.split(\",\")\n",
    "list_of_nums = [n for n in list_of_strs]\n",
    "print(list_of_nums)\n",
    "print(type(list_of_nums))\n",
    "print(\"-----------------------------------------\")\n",
    "n = len(list_of_nums)\n",
    "for i in range(n-k+1):\n",
    "    nlist = [n1 for n1 in list_of_nums[i:i+k]]\n",
    "    print(nlist)\n",
    "    avg = findAverage(nlist, k)\n",
    "    print(avg,end=\" \")\n",
    "    print(\"(\",end=\"\")\n",
    "    count=1\n",
    "    for n1 in list_of_nums[i:i+k]:\n",
    "        if(count<k):\n",
    "            print(n1,\"+ \", end=\"\")\n",
    "        count=count+1\n",
    "    print(n1,\")/\",k)    "
   ]
  },
  {
   "cell_type": "code",
   "execution_count": null,
   "metadata": {},
   "outputs": [],
   "source": []
  },
  {
   "cell_type": "code",
   "execution_count": null,
   "metadata": {},
   "outputs": [],
   "source": []
  },
  {
   "cell_type": "code",
   "execution_count": null,
   "metadata": {},
   "outputs": [],
   "source": []
  }
 ],
 "metadata": {
  "kernelspec": {
   "display_name": "Python 3",
   "language": "python",
   "name": "python3"
  },
  "language_info": {
   "codemirror_mode": {
    "name": "ipython",
    "version": 3
   },
   "file_extension": ".py",
   "mimetype": "text/x-python",
   "name": "python",
   "nbconvert_exporter": "python",
   "pygments_lexer": "ipython3",
   "version": "3.6.4"
  }
 },
 "nbformat": 4,
 "nbformat_minor": 2
}
